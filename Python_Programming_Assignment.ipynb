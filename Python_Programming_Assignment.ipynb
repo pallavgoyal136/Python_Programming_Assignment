{
  "nbformat": 4,
  "nbformat_minor": 0,
  "metadata": {
    "colab": {
      "provenance": [],
      "authorship_tag": "ABX9TyP2Qvjp/O9dQf2Qyf5D4bus",
      "include_colab_link": true
    },
    "kernelspec": {
      "name": "python3",
      "display_name": "Python 3"
    },
    "language_info": {
      "name": "python"
    }
  },
  "cells": [
    {
      "cell_type": "markdown",
      "metadata": {
        "id": "view-in-github",
        "colab_type": "text"
      },
      "source": [
        "<a href=\"https://colab.research.google.com/github/pallavgoyal136/Python_Programming_Assignment/blob/main/Python_Programming_Assignment.ipynb\" target=\"_parent\"><img src=\"https://colab.research.google.com/assets/colab-badge.svg\" alt=\"Open In Colab\"/></a>"
      ]
    },
    {
      "cell_type": "code",
      "execution_count": 5,
      "metadata": {
        "id": "n5qIpIO7eKAH"
      },
      "outputs": [],
      "source": [
        "import pandas as pd\n",
        "import numpy as np\n",
        "training_data = pd.read_csv('/content/train.csv')\n",
        "test_data = pd.read_csv('/content/test.csv')"
      ]
    },
    {
      "cell_type": "code",
      "source": [
        "def convert_units(value):\n",
        "  if ' Hund+' in value:\n",
        "    return int(value.replace(' Hund+', '')) * 10**2\n",
        "  if ' Thou+' in value:\n",
        "    return int(value.replace(' Thou+', '')) * 10**3\n",
        "  elif ' Lac+' in value:\n",
        "    return int(value.replace(' Lac+', '')) * 10**5\n",
        "  elif ' Crore+' in value:\n",
        "    return int(value.replace(' Crore+', '')) * 10**7\n",
        "  else:\n",
        "    return int(value)\n",
        "\n",
        "training_data['Total Assets'] = training_data['Total Assets'].apply(convert_units)\n",
        "training_data['Liabilities'] = training_data['Liabilities'].apply(convert_units)\n",
        "\n",
        "test_data['Total Assets'] = test_data['Total Assets'].apply(convert_units)\n",
        "test_data['Liabilities'] = test_data['Liabilities'].apply(convert_units)\n",
        "\n",
        "df=training_data\n",
        "df2=test_data\n",
        "\n",
        "column_name='Total Assets'\n",
        "df[column_name] = np.log10(df[column_name]+1)\n",
        "df2[column_name] = np.log10(df2[column_name]+1)\n",
        "\n",
        "column_name='Liabilities'\n",
        "df[column_name] = np.log10(df[column_name]+1)\n",
        "df2[column_name] = np.log10(df2[column_name]+1)"
      ],
      "metadata": {
        "id": "r9FPj7lDnehM"
      },
      "execution_count": 6,
      "outputs": []
    },
    {
      "cell_type": "code",
      "source": [
        "def extract_category(name):\n",
        "    if name.startswith(('Dr.', 'Adv.')):\n",
        "        return name[0:2]\n",
        "    else:\n",
        "        return 'None'\n",
        "\n",
        "df['Candidate']=df['Candidate'].apply(extract_category)\n",
        "one_hot_encoded = pd.get_dummies(df['Candidate'], dtype=int)\n",
        "df=pd.concat([df, one_hot_encoded], axis=1)\n",
        "df2['Candidate']=df2['Candidate'].apply(extract_category)\n",
        "one_hot_encoded = pd.get_dummies(df2['Candidate'], dtype=int)\n",
        "df2=pd.concat([df2, one_hot_encoded], axis=1)"
      ],
      "metadata": {
        "id": "KU7Ap9BGjKIc"
      },
      "execution_count": 7,
      "outputs": []
    },
    {
      "cell_type": "code",
      "source": [
        "one_hot_encoded = pd.get_dummies(training_data['Party'], dtype=int)\n",
        "df = pd.concat([df, one_hot_encoded], axis=1)\n",
        "\n",
        "one_hot_encoded = pd.get_dummies(test_data['Party'], dtype=int)\n",
        "df2 = pd.concat([df2, one_hot_encoded], axis=1)\n",
        "\n",
        "one_hot_encoded = pd.get_dummies(training_data['state'], dtype=int)\n",
        "df = pd.concat([df, one_hot_encoded], axis=1)\n",
        "\n",
        "one_hot_encoded = pd.get_dummies(test_data['state'], dtype=int)\n",
        "df2 = pd.concat([df2, one_hot_encoded], axis=1)\n",
        "\n",
        "columns_to_drop = ['Liabilities','Candidate', 'state', 'Party', 'Constituency ∇', 'ID','None', 'HARYANA', 'HIMACHAL PRADESH', 'MAHARASHTRA', 'PUDUCHERRY', 'PUNJAB', 'TRIPURA', 'RJD', 'SP']\n",
        "columns_to_drop2 = ['Liabilities','Candidate', 'state', 'Party', 'Constituency ∇', 'ID','None','HARYANA', 'HIMACHAL PRADESH', 'MAHARASHTRA', 'PUDUCHERRY', 'PUNJAB', 'TRIPURA','RJD', 'SP']\n",
        "df.drop(columns_to_drop, axis=1, inplace=True)\n",
        "df2.drop(columns_to_drop2, axis=1, inplace=True)"
      ],
      "metadata": {
        "id": "B_KLCJuytp0q"
      },
      "execution_count": 8,
      "outputs": []
    },
    {
      "cell_type": "code",
      "source": [
        "import sklearn.naive_bayes as naive_bayes\n",
        "\n",
        "y_train = df['Education']\n",
        "X_train = df.drop(columns=['Education'])\n",
        "X_test = df2\n",
        "\n",
        "model = naive_bayes.BernoulliNB()\n",
        "model.fit(X_train, y_train)\n",
        "y_pred=model.predict(X_test)\n",
        "prediction=pd.DataFrame({'ID':test_data['ID'],'Education': y_pred})\n",
        "prediction.to_csv('/content/prediction.csv',index=False)"
      ],
      "metadata": {
        "id": "9r75vL4P4K7O"
      },
      "execution_count": 9,
      "outputs": []
    }
  ]
}